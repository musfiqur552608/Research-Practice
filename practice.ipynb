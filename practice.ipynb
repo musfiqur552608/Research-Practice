{
  "nbformat": 4,
  "nbformat_minor": 0,
  "metadata": {
    "colab": {
      "name": "practice.ipynb",
      "provenance": [],
      "authorship_tag": "ABX9TyPd7YFAXBSLoJ6mlWWAZ2uK",
      "include_colab_link": true
    },
    "kernelspec": {
      "name": "python3",
      "display_name": "Python 3"
    }
  },
  "cells": [
    {
      "cell_type": "markdown",
      "metadata": {
        "id": "view-in-github",
        "colab_type": "text"
      },
      "source": [
        "<a href=\"https://colab.research.google.com/github/musfiqur552608/Research-Practice/blob/master/practice.ipynb\" target=\"_parent\"><img src=\"https://colab.research.google.com/assets/colab-badge.svg\" alt=\"Open In Colab\"/></a>"
      ]
    },
    {
      "cell_type": "code",
      "metadata": {
        "id": "wopO_XL-VGm5",
        "colab": {
          "base_uri": "https://localhost:8080/"
        },
        "outputId": "88c3739d-45a5-4f60-9329-d90f26cf6961"
      },
      "source": [
        "from google.colab import drive\n",
        "drive.mount('/content/gdrive')"
      ],
      "execution_count": null,
      "outputs": [
        {
          "output_type": "stream",
          "text": [
            "Mounted at /content/gdrive\n"
          ],
          "name": "stdout"
        }
      ]
    },
    {
      "cell_type": "code",
      "metadata": {
        "id": "qDgWPc6CYRVt"
      },
      "source": [
        "import pandas as pd\n",
        "df = pd.read_csv('gdrive/My Drive/Colab Notebooks/iris.csv')\n"
      ],
      "execution_count": null,
      "outputs": []
    },
    {
      "cell_type": "code",
      "metadata": {
        "id": "3_m2KCWcbG48",
        "colab": {
          "base_uri": "https://localhost:8080/",
          "height": 359
        },
        "outputId": "9edb1428-e825-4150-fd22-871b3eb41a2d"
      },
      "source": [
        "df.head(10)"
      ],
      "execution_count": null,
      "outputs": [
        {
          "output_type": "execute_result",
          "data": {
            "text/html": [
              "<div>\n",
              "<style scoped>\n",
              "    .dataframe tbody tr th:only-of-type {\n",
              "        vertical-align: middle;\n",
              "    }\n",
              "\n",
              "    .dataframe tbody tr th {\n",
              "        vertical-align: top;\n",
              "    }\n",
              "\n",
              "    .dataframe thead th {\n",
              "        text-align: right;\n",
              "    }\n",
              "</style>\n",
              "<table border=\"1\" class=\"dataframe\">\n",
              "  <thead>\n",
              "    <tr style=\"text-align: right;\">\n",
              "      <th></th>\n",
              "      <th>sepal_length</th>\n",
              "      <th>sepal_width</th>\n",
              "      <th>petal_length</th>\n",
              "      <th>petal_width</th>\n",
              "      <th>species</th>\n",
              "    </tr>\n",
              "  </thead>\n",
              "  <tbody>\n",
              "    <tr>\n",
              "      <th>0</th>\n",
              "      <td>5.1</td>\n",
              "      <td>3.5</td>\n",
              "      <td>1.4</td>\n",
              "      <td>0.2</td>\n",
              "      <td>setosa</td>\n",
              "    </tr>\n",
              "    <tr>\n",
              "      <th>1</th>\n",
              "      <td>4.9</td>\n",
              "      <td>3.0</td>\n",
              "      <td>1.4</td>\n",
              "      <td>0.2</td>\n",
              "      <td>setosa</td>\n",
              "    </tr>\n",
              "    <tr>\n",
              "      <th>2</th>\n",
              "      <td>4.7</td>\n",
              "      <td>3.2</td>\n",
              "      <td>1.3</td>\n",
              "      <td>0.2</td>\n",
              "      <td>setosa</td>\n",
              "    </tr>\n",
              "    <tr>\n",
              "      <th>3</th>\n",
              "      <td>4.6</td>\n",
              "      <td>3.1</td>\n",
              "      <td>1.5</td>\n",
              "      <td>0.2</td>\n",
              "      <td>setosa</td>\n",
              "    </tr>\n",
              "    <tr>\n",
              "      <th>4</th>\n",
              "      <td>5.0</td>\n",
              "      <td>3.6</td>\n",
              "      <td>1.4</td>\n",
              "      <td>0.2</td>\n",
              "      <td>setosa</td>\n",
              "    </tr>\n",
              "    <tr>\n",
              "      <th>5</th>\n",
              "      <td>5.4</td>\n",
              "      <td>3.9</td>\n",
              "      <td>1.7</td>\n",
              "      <td>0.4</td>\n",
              "      <td>setosa</td>\n",
              "    </tr>\n",
              "    <tr>\n",
              "      <th>6</th>\n",
              "      <td>4.6</td>\n",
              "      <td>3.4</td>\n",
              "      <td>1.4</td>\n",
              "      <td>0.3</td>\n",
              "      <td>setosa</td>\n",
              "    </tr>\n",
              "    <tr>\n",
              "      <th>7</th>\n",
              "      <td>5.0</td>\n",
              "      <td>3.4</td>\n",
              "      <td>1.5</td>\n",
              "      <td>0.2</td>\n",
              "      <td>setosa</td>\n",
              "    </tr>\n",
              "    <tr>\n",
              "      <th>8</th>\n",
              "      <td>4.4</td>\n",
              "      <td>2.9</td>\n",
              "      <td>1.4</td>\n",
              "      <td>0.2</td>\n",
              "      <td>setosa</td>\n",
              "    </tr>\n",
              "    <tr>\n",
              "      <th>9</th>\n",
              "      <td>4.9</td>\n",
              "      <td>3.1</td>\n",
              "      <td>1.5</td>\n",
              "      <td>0.1</td>\n",
              "      <td>setosa</td>\n",
              "    </tr>\n",
              "  </tbody>\n",
              "</table>\n",
              "</div>"
            ],
            "text/plain": [
              "   sepal_length  sepal_width  petal_length  petal_width species\n",
              "0           5.1          3.5           1.4          0.2  setosa\n",
              "1           4.9          3.0           1.4          0.2  setosa\n",
              "2           4.7          3.2           1.3          0.2  setosa\n",
              "3           4.6          3.1           1.5          0.2  setosa\n",
              "4           5.0          3.6           1.4          0.2  setosa\n",
              "5           5.4          3.9           1.7          0.4  setosa\n",
              "6           4.6          3.4           1.4          0.3  setosa\n",
              "7           5.0          3.4           1.5          0.2  setosa\n",
              "8           4.4          2.9           1.4          0.2  setosa\n",
              "9           4.9          3.1           1.5          0.1  setosa"
            ]
          },
          "metadata": {
            "tags": []
          },
          "execution_count": 3
        }
      ]
    },
    {
      "cell_type": "code",
      "metadata": {
        "id": "o9xnHB3_bi_s",
        "colab": {
          "base_uri": "https://localhost:8080/",
          "height": 359
        },
        "outputId": "37e75097-1bbc-44f4-e8d0-80de2224f14a"
      },
      "source": [
        "df.tail(10)\n"
      ],
      "execution_count": null,
      "outputs": [
        {
          "output_type": "execute_result",
          "data": {
            "text/html": [
              "<div>\n",
              "<style scoped>\n",
              "    .dataframe tbody tr th:only-of-type {\n",
              "        vertical-align: middle;\n",
              "    }\n",
              "\n",
              "    .dataframe tbody tr th {\n",
              "        vertical-align: top;\n",
              "    }\n",
              "\n",
              "    .dataframe thead th {\n",
              "        text-align: right;\n",
              "    }\n",
              "</style>\n",
              "<table border=\"1\" class=\"dataframe\">\n",
              "  <thead>\n",
              "    <tr style=\"text-align: right;\">\n",
              "      <th></th>\n",
              "      <th>sepal_length</th>\n",
              "      <th>sepal_width</th>\n",
              "      <th>petal_length</th>\n",
              "      <th>petal_width</th>\n",
              "      <th>species</th>\n",
              "    </tr>\n",
              "  </thead>\n",
              "  <tbody>\n",
              "    <tr>\n",
              "      <th>140</th>\n",
              "      <td>6.7</td>\n",
              "      <td>3.1</td>\n",
              "      <td>5.6</td>\n",
              "      <td>2.4</td>\n",
              "      <td>virginica</td>\n",
              "    </tr>\n",
              "    <tr>\n",
              "      <th>141</th>\n",
              "      <td>6.9</td>\n",
              "      <td>3.1</td>\n",
              "      <td>5.1</td>\n",
              "      <td>2.3</td>\n",
              "      <td>virginica</td>\n",
              "    </tr>\n",
              "    <tr>\n",
              "      <th>142</th>\n",
              "      <td>5.8</td>\n",
              "      <td>2.7</td>\n",
              "      <td>5.1</td>\n",
              "      <td>1.9</td>\n",
              "      <td>virginica</td>\n",
              "    </tr>\n",
              "    <tr>\n",
              "      <th>143</th>\n",
              "      <td>6.8</td>\n",
              "      <td>3.2</td>\n",
              "      <td>5.9</td>\n",
              "      <td>2.3</td>\n",
              "      <td>virginica</td>\n",
              "    </tr>\n",
              "    <tr>\n",
              "      <th>144</th>\n",
              "      <td>6.7</td>\n",
              "      <td>3.3</td>\n",
              "      <td>5.7</td>\n",
              "      <td>2.5</td>\n",
              "      <td>virginica</td>\n",
              "    </tr>\n",
              "    <tr>\n",
              "      <th>145</th>\n",
              "      <td>6.7</td>\n",
              "      <td>3.0</td>\n",
              "      <td>5.2</td>\n",
              "      <td>2.3</td>\n",
              "      <td>virginica</td>\n",
              "    </tr>\n",
              "    <tr>\n",
              "      <th>146</th>\n",
              "      <td>6.3</td>\n",
              "      <td>2.5</td>\n",
              "      <td>5.0</td>\n",
              "      <td>1.9</td>\n",
              "      <td>virginica</td>\n",
              "    </tr>\n",
              "    <tr>\n",
              "      <th>147</th>\n",
              "      <td>6.5</td>\n",
              "      <td>3.0</td>\n",
              "      <td>5.2</td>\n",
              "      <td>2.0</td>\n",
              "      <td>virginica</td>\n",
              "    </tr>\n",
              "    <tr>\n",
              "      <th>148</th>\n",
              "      <td>6.2</td>\n",
              "      <td>3.4</td>\n",
              "      <td>5.4</td>\n",
              "      <td>2.3</td>\n",
              "      <td>virginica</td>\n",
              "    </tr>\n",
              "    <tr>\n",
              "      <th>149</th>\n",
              "      <td>5.9</td>\n",
              "      <td>3.0</td>\n",
              "      <td>5.1</td>\n",
              "      <td>1.8</td>\n",
              "      <td>virginica</td>\n",
              "    </tr>\n",
              "  </tbody>\n",
              "</table>\n",
              "</div>"
            ],
            "text/plain": [
              "     sepal_length  sepal_width  petal_length  petal_width    species\n",
              "140           6.7          3.1           5.6          2.4  virginica\n",
              "141           6.9          3.1           5.1          2.3  virginica\n",
              "142           5.8          2.7           5.1          1.9  virginica\n",
              "143           6.8          3.2           5.9          2.3  virginica\n",
              "144           6.7          3.3           5.7          2.5  virginica\n",
              "145           6.7          3.0           5.2          2.3  virginica\n",
              "146           6.3          2.5           5.0          1.9  virginica\n",
              "147           6.5          3.0           5.2          2.0  virginica\n",
              "148           6.2          3.4           5.4          2.3  virginica\n",
              "149           5.9          3.0           5.1          1.8  virginica"
            ]
          },
          "metadata": {
            "tags": []
          },
          "execution_count": 4
        }
      ]
    },
    {
      "cell_type": "code",
      "metadata": {
        "id": "YfjgYhqWbyFj"
      },
      "source": [
        "df2 = pd.read_csv('gdrive/My Drive/Colab Notebooks/ogidl.csv')"
      ],
      "execution_count": null,
      "outputs": []
    },
    {
      "cell_type": "code",
      "metadata": {
        "id": "Xz7MwVFQc4kU",
        "colab": {
          "base_uri": "https://localhost:8080/",
          "height": 682
        },
        "outputId": "e0b92eb5-dc63-4c8c-9c1d-095d4e2018ab"
      },
      "source": [
        "df2.head(10)"
      ],
      "execution_count": null,
      "outputs": [
        {
          "output_type": "execute_result",
          "data": {
            "text/html": [
              "<div>\n",
              "<style scoped>\n",
              "    .dataframe tbody tr th:only-of-type {\n",
              "        vertical-align: middle;\n",
              "    }\n",
              "\n",
              "    .dataframe tbody tr th {\n",
              "        vertical-align: top;\n",
              "    }\n",
              "\n",
              "    .dataframe thead th {\n",
              "        text-align: right;\n",
              "    }\n",
              "</style>\n",
              "<table border=\"1\" class=\"dataframe\">\n",
              "  <thead>\n",
              "    <tr style=\"text-align: right;\">\n",
              "      <th></th>\n",
              "      <th>Timestamp</th>\n",
              "      <th>Your Age?(আপনার বয়স?)</th>\n",
              "      <th>Gender?(লিঙ্গ?)</th>\n",
              "      <th>Study /Job?(চাকুরি  / পড়াশোনা?)</th>\n",
              "      <th>Are you addicted with many games platform?(আপনি অনেক গেমস প্ল্যাটফর্মের সাথে আসক্ত?)</th>\n",
              "      <th>How many years have you played online games?(কত বছর ধরে আপনি অনলাইন গেইম খেলেন?)</th>\n",
              "      <th>How much time do you spend on online games daily?(আপনি দৈনিক কত সময় অনলাইন গেইমে ব্যয় করেন?)</th>\n",
              "      <th>How much time do you spend online daily? (আপনি দৈনিক কত সময় অনলাইনে ব্যয় করেন?)(e.g: Facebook, Instagram, Youtube, etc)</th>\n",
              "      <th>How much time do you spend studying?(আপনি কত সময় পড়াশোনায় ব্যয় করেন? )</th>\n",
              "      <th>How much time do you spend sleeping?(আপনি কত সময় ঘুমে ব্যয় করেন?)</th>\n",
              "      <th>How much time do you spend with family?(আপনি কত সময় পরিবারের সাথে ব্যয় করেন? )</th>\n",
              "      <th>How much time do you spend with friends?(আপনি কত সময় বন্ধুদের সাথে ব্যয় করেন?)</th>\n",
              "      <th>Do you have any of the following problems?(আপনার নিচে কোন সমস্যা গুলো আছে?)</th>\n",
              "    </tr>\n",
              "  </thead>\n",
              "  <tbody>\n",
              "    <tr>\n",
              "      <th>0</th>\n",
              "      <td>10/18/2020 11:17:45</td>\n",
              "      <td>19</td>\n",
              "      <td>Female</td>\n",
              "      <td>Bachelor Degree</td>\n",
              "      <td>No</td>\n",
              "      <td>Less than 1 year</td>\n",
              "      <td>Less than 1 hour</td>\n",
              "      <td>4 hour</td>\n",
              "      <td>4 hour</td>\n",
              "      <td>6 hour</td>\n",
              "      <td>4 hour</td>\n",
              "      <td>less than 1 hour</td>\n",
              "      <td>Headache, Eye problems, Eating problem, Losing...</td>\n",
              "    </tr>\n",
              "    <tr>\n",
              "      <th>1</th>\n",
              "      <td>10/18/2020 11:20:08</td>\n",
              "      <td>19</td>\n",
              "      <td>Male</td>\n",
              "      <td>12th class</td>\n",
              "      <td>No</td>\n",
              "      <td>5 year</td>\n",
              "      <td>5 hour</td>\n",
              "      <td>5 hour</td>\n",
              "      <td>2 hour</td>\n",
              "      <td>6 hour</td>\n",
              "      <td>2 hour</td>\n",
              "      <td>4 hour</td>\n",
              "      <td>Other</td>\n",
              "    </tr>\n",
              "    <tr>\n",
              "      <th>2</th>\n",
              "      <td>10/18/2020 11:21:46</td>\n",
              "      <td>21</td>\n",
              "      <td>Female</td>\n",
              "      <td>Bachelor Degree</td>\n",
              "      <td>No</td>\n",
              "      <td>Less than 1 year</td>\n",
              "      <td>Less than 1 hour</td>\n",
              "      <td>1 hour</td>\n",
              "      <td>2 hour</td>\n",
              "      <td>7 hour</td>\n",
              "      <td>More than 12 hours</td>\n",
              "      <td>2 hour</td>\n",
              "      <td>No problem</td>\n",
              "    </tr>\n",
              "    <tr>\n",
              "      <th>3</th>\n",
              "      <td>10/18/2020 11:21:48</td>\n",
              "      <td>21</td>\n",
              "      <td>Female</td>\n",
              "      <td>Bachelor Degree</td>\n",
              "      <td>No</td>\n",
              "      <td>Less than 1 year</td>\n",
              "      <td>Less than 1 hour</td>\n",
              "      <td>4 hour</td>\n",
              "      <td>4 hour</td>\n",
              "      <td>6 hour</td>\n",
              "      <td>4 hour</td>\n",
              "      <td>1 hour</td>\n",
              "      <td>No problem</td>\n",
              "    </tr>\n",
              "    <tr>\n",
              "      <th>4</th>\n",
              "      <td>10/18/2020 11:22:00</td>\n",
              "      <td>22</td>\n",
              "      <td>Female</td>\n",
              "      <td>Bachelor Degree</td>\n",
              "      <td>No</td>\n",
              "      <td>2 year</td>\n",
              "      <td>2 hour</td>\n",
              "      <td>4 hour</td>\n",
              "      <td>5 hour</td>\n",
              "      <td>6 hour</td>\n",
              "      <td>1 hour</td>\n",
              "      <td>less than 1 hour</td>\n",
              "      <td>Headache, Eye problems</td>\n",
              "    </tr>\n",
              "    <tr>\n",
              "      <th>5</th>\n",
              "      <td>10/18/2020 11:26:35</td>\n",
              "      <td>21</td>\n",
              "      <td>Female</td>\n",
              "      <td>Bachelor Degree</td>\n",
              "      <td>No</td>\n",
              "      <td>1 year</td>\n",
              "      <td>Less than 1 hour</td>\n",
              "      <td>4 hour</td>\n",
              "      <td>3 hour</td>\n",
              "      <td>6 hour</td>\n",
              "      <td>2 hour</td>\n",
              "      <td>1 hour</td>\n",
              "      <td>Headache</td>\n",
              "    </tr>\n",
              "    <tr>\n",
              "      <th>6</th>\n",
              "      <td>10/18/2020 11:29:07</td>\n",
              "      <td>22</td>\n",
              "      <td>Female</td>\n",
              "      <td>Bachelor Degree</td>\n",
              "      <td>No</td>\n",
              "      <td>Less than 1 year</td>\n",
              "      <td>Less than 1 hour</td>\n",
              "      <td>7 hour</td>\n",
              "      <td>3 hour</td>\n",
              "      <td>8 hour</td>\n",
              "      <td>3 hour</td>\n",
              "      <td>2 hour</td>\n",
              "      <td>Headache, Eye problems, Eating problem, Losing...</td>\n",
              "    </tr>\n",
              "    <tr>\n",
              "      <th>7</th>\n",
              "      <td>10/18/2020 11:29:47</td>\n",
              "      <td>21</td>\n",
              "      <td>Female</td>\n",
              "      <td>Bachelor Degree</td>\n",
              "      <td>No</td>\n",
              "      <td>Less than 1 year</td>\n",
              "      <td>Less than 1 hour</td>\n",
              "      <td>8 hour</td>\n",
              "      <td>2 hour</td>\n",
              "      <td>5 hour</td>\n",
              "      <td>More than 12 hours</td>\n",
              "      <td>less than 1 hour</td>\n",
              "      <td>Headache, Eye problems, Lack of sleep, Losing ...</td>\n",
              "    </tr>\n",
              "    <tr>\n",
              "      <th>8</th>\n",
              "      <td>10/18/2020 11:39:14</td>\n",
              "      <td>23</td>\n",
              "      <td>Male</td>\n",
              "      <td>Bachelor Degree</td>\n",
              "      <td>Yes</td>\n",
              "      <td>6 year</td>\n",
              "      <td>4 hour</td>\n",
              "      <td>1 hour</td>\n",
              "      <td>4 hour</td>\n",
              "      <td>6 hour</td>\n",
              "      <td>3 hour</td>\n",
              "      <td>less than 1 hour</td>\n",
              "      <td>Headache, Lack of sleep, Losing mood easily</td>\n",
              "    </tr>\n",
              "    <tr>\n",
              "      <th>9</th>\n",
              "      <td>10/18/2020 11:47:16</td>\n",
              "      <td>21</td>\n",
              "      <td>Male</td>\n",
              "      <td>Bachelor Degree</td>\n",
              "      <td>Yes</td>\n",
              "      <td>4 year</td>\n",
              "      <td>5 hour</td>\n",
              "      <td>1 hour</td>\n",
              "      <td>1 hour</td>\n",
              "      <td>5 hour</td>\n",
              "      <td>2 hour</td>\n",
              "      <td>1 hour</td>\n",
              "      <td>No problem</td>\n",
              "    </tr>\n",
              "  </tbody>\n",
              "</table>\n",
              "</div>"
            ],
            "text/plain": [
              "             Timestamp  ...  Do you have any of the following problems?(আপনার নিচে কোন সমস্যা গুলো আছে?)\n",
              "0  10/18/2020 11:17:45  ...  Headache, Eye problems, Eating problem, Losing...                          \n",
              "1  10/18/2020 11:20:08  ...                                              Other                          \n",
              "2  10/18/2020 11:21:46  ...                                         No problem                          \n",
              "3  10/18/2020 11:21:48  ...                                         No problem                          \n",
              "4  10/18/2020 11:22:00  ...                             Headache, Eye problems                          \n",
              "5  10/18/2020 11:26:35  ...                                           Headache                          \n",
              "6  10/18/2020 11:29:07  ...  Headache, Eye problems, Eating problem, Losing...                          \n",
              "7  10/18/2020 11:29:47  ...  Headache, Eye problems, Lack of sleep, Losing ...                          \n",
              "8  10/18/2020 11:39:14  ...        Headache, Lack of sleep, Losing mood easily                          \n",
              "9  10/18/2020 11:47:16  ...                                         No problem                          \n",
              "\n",
              "[10 rows x 13 columns]"
            ]
          },
          "metadata": {
            "tags": []
          },
          "execution_count": 6
        }
      ]
    },
    {
      "cell_type": "code",
      "metadata": {
        "id": "isMyTfcKdBBT",
        "colab": {
          "base_uri": "https://localhost:8080/",
          "height": 648
        },
        "outputId": "8cb6723e-912f-49f0-ada5-9dcf2b0a42d7"
      },
      "source": [
        "df2.tail(10)"
      ],
      "execution_count": null,
      "outputs": [
        {
          "output_type": "execute_result",
          "data": {
            "text/html": [
              "<div>\n",
              "<style scoped>\n",
              "    .dataframe tbody tr th:only-of-type {\n",
              "        vertical-align: middle;\n",
              "    }\n",
              "\n",
              "    .dataframe tbody tr th {\n",
              "        vertical-align: top;\n",
              "    }\n",
              "\n",
              "    .dataframe thead th {\n",
              "        text-align: right;\n",
              "    }\n",
              "</style>\n",
              "<table border=\"1\" class=\"dataframe\">\n",
              "  <thead>\n",
              "    <tr style=\"text-align: right;\">\n",
              "      <th></th>\n",
              "      <th>Timestamp</th>\n",
              "      <th>Your Age?(আপনার বয়স?)</th>\n",
              "      <th>Gender?(লিঙ্গ?)</th>\n",
              "      <th>Study /Job?(চাকুরি  / পড়াশোনা?)</th>\n",
              "      <th>Are you addicted with many games platform?(আপনি অনেক গেমস প্ল্যাটফর্মের সাথে আসক্ত?)</th>\n",
              "      <th>How many years have you played online games?(কত বছর ধরে আপনি অনলাইন গেইম খেলেন?)</th>\n",
              "      <th>How much time do you spend on online games daily?(আপনি দৈনিক কত সময় অনলাইন গেইমে ব্যয় করেন?)</th>\n",
              "      <th>How much time do you spend online daily? (আপনি দৈনিক কত সময় অনলাইনে ব্যয় করেন?)(e.g: Facebook, Instagram, Youtube, etc)</th>\n",
              "      <th>How much time do you spend studying?(আপনি কত সময় পড়াশোনায় ব্যয় করেন? )</th>\n",
              "      <th>How much time do you spend sleeping?(আপনি কত সময় ঘুমে ব্যয় করেন?)</th>\n",
              "      <th>How much time do you spend with family?(আপনি কত সময় পরিবারের সাথে ব্যয় করেন? )</th>\n",
              "      <th>How much time do you spend with friends?(আপনি কত সময় বন্ধুদের সাথে ব্যয় করেন?)</th>\n",
              "      <th>Do you have any of the following problems?(আপনার নিচে কোন সমস্যা গুলো আছে?)</th>\n",
              "    </tr>\n",
              "  </thead>\n",
              "  <tbody>\n",
              "    <tr>\n",
              "      <th>158</th>\n",
              "      <td>10/22/2020 15:32:42</td>\n",
              "      <td>18</td>\n",
              "      <td>Male</td>\n",
              "      <td>12th class</td>\n",
              "      <td>Yes</td>\n",
              "      <td>3 year</td>\n",
              "      <td>2 hour</td>\n",
              "      <td>4 hour</td>\n",
              "      <td>less than 1 hour</td>\n",
              "      <td>8 hour</td>\n",
              "      <td>10 hour</td>\n",
              "      <td>less than 1 hour</td>\n",
              "      <td>Losing mood easily</td>\n",
              "    </tr>\n",
              "    <tr>\n",
              "      <th>159</th>\n",
              "      <td>10/23/2020 1:53:45</td>\n",
              "      <td>21</td>\n",
              "      <td>Male</td>\n",
              "      <td>Bachelor Degree</td>\n",
              "      <td>No</td>\n",
              "      <td>4 year</td>\n",
              "      <td>3 hour</td>\n",
              "      <td>9 hour</td>\n",
              "      <td>2 hour</td>\n",
              "      <td>7 hour</td>\n",
              "      <td>7 hour</td>\n",
              "      <td>3 hour</td>\n",
              "      <td>No problem</td>\n",
              "    </tr>\n",
              "    <tr>\n",
              "      <th>160</th>\n",
              "      <td>10/23/2020 5:57:55</td>\n",
              "      <td>20</td>\n",
              "      <td>Female</td>\n",
              "      <td>Bachelor Degree</td>\n",
              "      <td>No</td>\n",
              "      <td>None</td>\n",
              "      <td>Never play</td>\n",
              "      <td>4 hour</td>\n",
              "      <td>3 hour</td>\n",
              "      <td>6 hour</td>\n",
              "      <td>1 hour</td>\n",
              "      <td>less than 1 hour</td>\n",
              "      <td>Headache</td>\n",
              "    </tr>\n",
              "    <tr>\n",
              "      <th>161</th>\n",
              "      <td>10/23/2020 9:28:07</td>\n",
              "      <td>23</td>\n",
              "      <td>Male</td>\n",
              "      <td>9th class</td>\n",
              "      <td>Yes</td>\n",
              "      <td>More than 6 year</td>\n",
              "      <td>4 hour</td>\n",
              "      <td>More than 12 hour</td>\n",
              "      <td>2 hour</td>\n",
              "      <td>6 hour</td>\n",
              "      <td>9 hour</td>\n",
              "      <td>4 hour</td>\n",
              "      <td>Eye problems, Losing mood easily</td>\n",
              "    </tr>\n",
              "    <tr>\n",
              "      <th>162</th>\n",
              "      <td>10/23/2020 9:51:32</td>\n",
              "      <td>24</td>\n",
              "      <td>Female</td>\n",
              "      <td>Bachelor Degree</td>\n",
              "      <td>No</td>\n",
              "      <td>None</td>\n",
              "      <td>Never play</td>\n",
              "      <td>4 hour</td>\n",
              "      <td>1 hour</td>\n",
              "      <td>8 hour</td>\n",
              "      <td>5 hour</td>\n",
              "      <td>less than 1 hour</td>\n",
              "      <td>No problem</td>\n",
              "    </tr>\n",
              "    <tr>\n",
              "      <th>163</th>\n",
              "      <td>10/23/2020 11:24:47</td>\n",
              "      <td>24</td>\n",
              "      <td>Male</td>\n",
              "      <td>Bachelor Degree</td>\n",
              "      <td>No</td>\n",
              "      <td>More than 6 year</td>\n",
              "      <td>1 hour</td>\n",
              "      <td>6 hour</td>\n",
              "      <td>1 hour</td>\n",
              "      <td>7 hour</td>\n",
              "      <td>8 hour</td>\n",
              "      <td>less than 1 hour</td>\n",
              "      <td>Headache, Losing mood easily</td>\n",
              "    </tr>\n",
              "    <tr>\n",
              "      <th>164</th>\n",
              "      <td>10/23/2020 12:05:30</td>\n",
              "      <td>23</td>\n",
              "      <td>Female</td>\n",
              "      <td>Bachelor Degree</td>\n",
              "      <td>No</td>\n",
              "      <td>Less than 1 year</td>\n",
              "      <td>Less than 1 hour</td>\n",
              "      <td>More than 12 hour</td>\n",
              "      <td>2 hour</td>\n",
              "      <td>7 hour</td>\n",
              "      <td>1 hour</td>\n",
              "      <td>1 hour</td>\n",
              "      <td>Headache, Eye problems, Lack of sleep</td>\n",
              "    </tr>\n",
              "    <tr>\n",
              "      <th>165</th>\n",
              "      <td>10/23/2020 12:17:51</td>\n",
              "      <td>23</td>\n",
              "      <td>Male</td>\n",
              "      <td>Bachelor Degree</td>\n",
              "      <td>No</td>\n",
              "      <td>None</td>\n",
              "      <td>Less than 1 hour</td>\n",
              "      <td>Less than 1 hour</td>\n",
              "      <td>less than 1 hour</td>\n",
              "      <td>7 hour</td>\n",
              "      <td>3 hour</td>\n",
              "      <td>1 hour</td>\n",
              "      <td>Losing mood easily</td>\n",
              "    </tr>\n",
              "    <tr>\n",
              "      <th>166</th>\n",
              "      <td>10/23/2020 13:23:44</td>\n",
              "      <td>21</td>\n",
              "      <td>Male</td>\n",
              "      <td>Bachelor Degree</td>\n",
              "      <td>Yes</td>\n",
              "      <td>More than 6 year</td>\n",
              "      <td>4 hour</td>\n",
              "      <td>2 hour</td>\n",
              "      <td>3 hour</td>\n",
              "      <td>7 hour</td>\n",
              "      <td>less than 1 hour</td>\n",
              "      <td>less than 1 hour</td>\n",
              "      <td>Lack of sleep, Losing mood easily</td>\n",
              "    </tr>\n",
              "    <tr>\n",
              "      <th>167</th>\n",
              "      <td>10/23/2020 22:13:51</td>\n",
              "      <td>22</td>\n",
              "      <td>Male</td>\n",
              "      <td>Bachelor Degree</td>\n",
              "      <td>Yes</td>\n",
              "      <td>2 year</td>\n",
              "      <td>1 hour</td>\n",
              "      <td>3 hour</td>\n",
              "      <td>less than 1 hour</td>\n",
              "      <td>6 hour</td>\n",
              "      <td>More than 12 hours</td>\n",
              "      <td>less than 1 hour</td>\n",
              "      <td>Eating problem, Lack of sleep, Losing mood easily</td>\n",
              "    </tr>\n",
              "  </tbody>\n",
              "</table>\n",
              "</div>"
            ],
            "text/plain": [
              "               Timestamp  ...  Do you have any of the following problems?(আপনার নিচে কোন সমস্যা গুলো আছে?)\n",
              "158  10/22/2020 15:32:42  ...                                 Losing mood easily                          \n",
              "159   10/23/2020 1:53:45  ...                                         No problem                          \n",
              "160   10/23/2020 5:57:55  ...                                           Headache                          \n",
              "161   10/23/2020 9:28:07  ...                   Eye problems, Losing mood easily                          \n",
              "162   10/23/2020 9:51:32  ...                                         No problem                          \n",
              "163  10/23/2020 11:24:47  ...                       Headache, Losing mood easily                          \n",
              "164  10/23/2020 12:05:30  ...              Headache, Eye problems, Lack of sleep                          \n",
              "165  10/23/2020 12:17:51  ...                                 Losing mood easily                          \n",
              "166  10/23/2020 13:23:44  ...                  Lack of sleep, Losing mood easily                          \n",
              "167  10/23/2020 22:13:51  ...  Eating problem, Lack of sleep, Losing mood easily                          \n",
              "\n",
              "[10 rows x 13 columns]"
            ]
          },
          "metadata": {
            "tags": []
          },
          "execution_count": 7
        }
      ]
    },
    {
      "cell_type": "code",
      "metadata": {
        "id": "ijqelUuldRtM",
        "colab": {
          "base_uri": "https://localhost:8080/"
        },
        "outputId": "d994c6cf-f264-48b2-eca1-5f66b5999675"
      },
      "source": [
        "df.isnull().sum()"
      ],
      "execution_count": null,
      "outputs": [
        {
          "output_type": "execute_result",
          "data": {
            "text/plain": [
              "sepal_length    0\n",
              "sepal_width     0\n",
              "petal_length    0\n",
              "petal_width     0\n",
              "species         0\n",
              "dtype: int64"
            ]
          },
          "metadata": {
            "tags": []
          },
          "execution_count": 8
        }
      ]
    },
    {
      "cell_type": "code",
      "metadata": {
        "id": "J-kztWWhdydz",
        "colab": {
          "base_uri": "https://localhost:8080/"
        },
        "outputId": "d37551c7-171d-4f47-fe11-2d478795c84c"
      },
      "source": [
        "df2.isnull().sum()"
      ],
      "execution_count": null,
      "outputs": [
        {
          "output_type": "execute_result",
          "data": {
            "text/plain": [
              "Timestamp                                                                                                                  0\n",
              " Your Age?(আপনার বয়স?)                                                                                                     0\n",
              "Gender?(লিঙ্গ?)                                                                                                            0\n",
              "Study /Job?(চাকুরি  / পড়াশোনা?)                                                                                            0\n",
              "Are you addicted with many games platform?(আপনি অনেক গেমস প্ল্যাটফর্মের সাথে আসক্ত?)                                       0\n",
              "How many years have you played online games?(কত বছর ধরে আপনি অনলাইন গেইম খেলেন?)                                           0\n",
              "How much time do you spend on online games daily?(আপনি দৈনিক কত সময় অনলাইন গেইমে ব্যয় করেন?)                               0\n",
              "How much time do you spend online daily? (আপনি দৈনিক কত সময় অনলাইনে ব্যয় করেন?)(e.g: Facebook, Instagram, Youtube, etc)    0\n",
              "How much time do you spend studying?(আপনি কত সময় পড়াশোনায় ব্যয় করেন? )                                                     0\n",
              "How much time do you spend sleeping?(আপনি কত সময় ঘুমে ব্যয় করেন?)                                                          0\n",
              "How much time do you spend with family?(আপনি কত সময় পরিবারের সাথে ব্যয় করেন? )                                             0\n",
              "How much time do you spend with friends?(আপনি কত সময় বন্ধুদের সাথে ব্যয় করেন?)                                             0\n",
              "Do you have any of the following problems?(আপনার নিচে কোন সমস্যা গুলো আছে?)                                                0\n",
              "dtype: int64"
            ]
          },
          "metadata": {
            "tags": []
          },
          "execution_count": 9
        }
      ]
    },
    {
      "cell_type": "code",
      "metadata": {
        "id": "Vf6W_-Upd1Mz"
      },
      "source": [
        " y = df['species']\n",
        " x = df.drop('species', axis=1)"
      ],
      "execution_count": null,
      "outputs": []
    },
    {
      "cell_type": "code",
      "metadata": {
        "id": "F87z7HoHfm00",
        "colab": {
          "base_uri": "https://localhost:8080/"
        },
        "outputId": "ff5fe8dc-6160-43ad-d940-d53649ab4eb9"
      },
      "source": [
        "y"
      ],
      "execution_count": null,
      "outputs": [
        {
          "output_type": "execute_result",
          "data": {
            "text/plain": [
              "0         setosa\n",
              "1         setosa\n",
              "2         setosa\n",
              "3         setosa\n",
              "4         setosa\n",
              "         ...    \n",
              "145    virginica\n",
              "146    virginica\n",
              "147    virginica\n",
              "148    virginica\n",
              "149    virginica\n",
              "Name: species, Length: 150, dtype: object"
            ]
          },
          "metadata": {
            "tags": []
          },
          "execution_count": 11
        }
      ]
    },
    {
      "cell_type": "code",
      "metadata": {
        "id": "sTPM20wCfyKs",
        "colab": {
          "base_uri": "https://localhost:8080/",
          "height": 419
        },
        "outputId": "4e5d5864-881c-43cb-eeaa-b3c4d52cd048"
      },
      "source": [
        "x"
      ],
      "execution_count": null,
      "outputs": [
        {
          "output_type": "execute_result",
          "data": {
            "text/html": [
              "<div>\n",
              "<style scoped>\n",
              "    .dataframe tbody tr th:only-of-type {\n",
              "        vertical-align: middle;\n",
              "    }\n",
              "\n",
              "    .dataframe tbody tr th {\n",
              "        vertical-align: top;\n",
              "    }\n",
              "\n",
              "    .dataframe thead th {\n",
              "        text-align: right;\n",
              "    }\n",
              "</style>\n",
              "<table border=\"1\" class=\"dataframe\">\n",
              "  <thead>\n",
              "    <tr style=\"text-align: right;\">\n",
              "      <th></th>\n",
              "      <th>sepal_length</th>\n",
              "      <th>sepal_width</th>\n",
              "      <th>petal_length</th>\n",
              "      <th>petal_width</th>\n",
              "    </tr>\n",
              "  </thead>\n",
              "  <tbody>\n",
              "    <tr>\n",
              "      <th>0</th>\n",
              "      <td>5.1</td>\n",
              "      <td>3.5</td>\n",
              "      <td>1.4</td>\n",
              "      <td>0.2</td>\n",
              "    </tr>\n",
              "    <tr>\n",
              "      <th>1</th>\n",
              "      <td>4.9</td>\n",
              "      <td>3.0</td>\n",
              "      <td>1.4</td>\n",
              "      <td>0.2</td>\n",
              "    </tr>\n",
              "    <tr>\n",
              "      <th>2</th>\n",
              "      <td>4.7</td>\n",
              "      <td>3.2</td>\n",
              "      <td>1.3</td>\n",
              "      <td>0.2</td>\n",
              "    </tr>\n",
              "    <tr>\n",
              "      <th>3</th>\n",
              "      <td>4.6</td>\n",
              "      <td>3.1</td>\n",
              "      <td>1.5</td>\n",
              "      <td>0.2</td>\n",
              "    </tr>\n",
              "    <tr>\n",
              "      <th>4</th>\n",
              "      <td>5.0</td>\n",
              "      <td>3.6</td>\n",
              "      <td>1.4</td>\n",
              "      <td>0.2</td>\n",
              "    </tr>\n",
              "    <tr>\n",
              "      <th>...</th>\n",
              "      <td>...</td>\n",
              "      <td>...</td>\n",
              "      <td>...</td>\n",
              "      <td>...</td>\n",
              "    </tr>\n",
              "    <tr>\n",
              "      <th>145</th>\n",
              "      <td>6.7</td>\n",
              "      <td>3.0</td>\n",
              "      <td>5.2</td>\n",
              "      <td>2.3</td>\n",
              "    </tr>\n",
              "    <tr>\n",
              "      <th>146</th>\n",
              "      <td>6.3</td>\n",
              "      <td>2.5</td>\n",
              "      <td>5.0</td>\n",
              "      <td>1.9</td>\n",
              "    </tr>\n",
              "    <tr>\n",
              "      <th>147</th>\n",
              "      <td>6.5</td>\n",
              "      <td>3.0</td>\n",
              "      <td>5.2</td>\n",
              "      <td>2.0</td>\n",
              "    </tr>\n",
              "    <tr>\n",
              "      <th>148</th>\n",
              "      <td>6.2</td>\n",
              "      <td>3.4</td>\n",
              "      <td>5.4</td>\n",
              "      <td>2.3</td>\n",
              "    </tr>\n",
              "    <tr>\n",
              "      <th>149</th>\n",
              "      <td>5.9</td>\n",
              "      <td>3.0</td>\n",
              "      <td>5.1</td>\n",
              "      <td>1.8</td>\n",
              "    </tr>\n",
              "  </tbody>\n",
              "</table>\n",
              "<p>150 rows × 4 columns</p>\n",
              "</div>"
            ],
            "text/plain": [
              "     sepal_length  sepal_width  petal_length  petal_width\n",
              "0             5.1          3.5           1.4          0.2\n",
              "1             4.9          3.0           1.4          0.2\n",
              "2             4.7          3.2           1.3          0.2\n",
              "3             4.6          3.1           1.5          0.2\n",
              "4             5.0          3.6           1.4          0.2\n",
              "..            ...          ...           ...          ...\n",
              "145           6.7          3.0           5.2          2.3\n",
              "146           6.3          2.5           5.0          1.9\n",
              "147           6.5          3.0           5.2          2.0\n",
              "148           6.2          3.4           5.4          2.3\n",
              "149           5.9          3.0           5.1          1.8\n",
              "\n",
              "[150 rows x 4 columns]"
            ]
          },
          "metadata": {
            "tags": []
          },
          "execution_count": 12
        }
      ]
    },
    {
      "cell_type": "code",
      "metadata": {
        "id": "OAWVfQw-cuQc"
      },
      "source": [
        ""
      ],
      "execution_count": null,
      "outputs": []
    },
    {
      "cell_type": "code",
      "metadata": {
        "id": "4-y_SQbYh7rD"
      },
      "source": [
        "x_train,x_test,y_train,y_test = train_test_split(x,y,test_size = 0.2)"
      ],
      "execution_count": null,
      "outputs": []
    },
    {
      "cell_type": "code",
      "metadata": {
        "id": "238CP6J8jheD",
        "colab": {
          "base_uri": "https://localhost:8080/",
          "height": 419
        },
        "outputId": "a495f997-5dd7-4fc2-fc72-31bfc9c29eff"
      },
      "source": [
        "x_train"
      ],
      "execution_count": null,
      "outputs": [
        {
          "output_type": "execute_result",
          "data": {
            "text/html": [
              "<div>\n",
              "<style scoped>\n",
              "    .dataframe tbody tr th:only-of-type {\n",
              "        vertical-align: middle;\n",
              "    }\n",
              "\n",
              "    .dataframe tbody tr th {\n",
              "        vertical-align: top;\n",
              "    }\n",
              "\n",
              "    .dataframe thead th {\n",
              "        text-align: right;\n",
              "    }\n",
              "</style>\n",
              "<table border=\"1\" class=\"dataframe\">\n",
              "  <thead>\n",
              "    <tr style=\"text-align: right;\">\n",
              "      <th></th>\n",
              "      <th>sepal_length</th>\n",
              "      <th>sepal_width</th>\n",
              "      <th>petal_length</th>\n",
              "      <th>petal_width</th>\n",
              "    </tr>\n",
              "  </thead>\n",
              "  <tbody>\n",
              "    <tr>\n",
              "      <th>55</th>\n",
              "      <td>5.7</td>\n",
              "      <td>2.8</td>\n",
              "      <td>4.5</td>\n",
              "      <td>1.3</td>\n",
              "    </tr>\n",
              "    <tr>\n",
              "      <th>127</th>\n",
              "      <td>6.1</td>\n",
              "      <td>3.0</td>\n",
              "      <td>4.9</td>\n",
              "      <td>1.8</td>\n",
              "    </tr>\n",
              "    <tr>\n",
              "      <th>35</th>\n",
              "      <td>5.0</td>\n",
              "      <td>3.2</td>\n",
              "      <td>1.2</td>\n",
              "      <td>0.2</td>\n",
              "    </tr>\n",
              "    <tr>\n",
              "      <th>98</th>\n",
              "      <td>5.1</td>\n",
              "      <td>2.5</td>\n",
              "      <td>3.0</td>\n",
              "      <td>1.1</td>\n",
              "    </tr>\n",
              "    <tr>\n",
              "      <th>29</th>\n",
              "      <td>4.7</td>\n",
              "      <td>3.2</td>\n",
              "      <td>1.6</td>\n",
              "      <td>0.2</td>\n",
              "    </tr>\n",
              "    <tr>\n",
              "      <th>...</th>\n",
              "      <td>...</td>\n",
              "      <td>...</td>\n",
              "      <td>...</td>\n",
              "      <td>...</td>\n",
              "    </tr>\n",
              "    <tr>\n",
              "      <th>16</th>\n",
              "      <td>5.4</td>\n",
              "      <td>3.9</td>\n",
              "      <td>1.3</td>\n",
              "      <td>0.4</td>\n",
              "    </tr>\n",
              "    <tr>\n",
              "      <th>15</th>\n",
              "      <td>5.7</td>\n",
              "      <td>4.4</td>\n",
              "      <td>1.5</td>\n",
              "      <td>0.4</td>\n",
              "    </tr>\n",
              "    <tr>\n",
              "      <th>17</th>\n",
              "      <td>5.1</td>\n",
              "      <td>3.5</td>\n",
              "      <td>1.4</td>\n",
              "      <td>0.3</td>\n",
              "    </tr>\n",
              "    <tr>\n",
              "      <th>88</th>\n",
              "      <td>5.6</td>\n",
              "      <td>3.0</td>\n",
              "      <td>4.1</td>\n",
              "      <td>1.3</td>\n",
              "    </tr>\n",
              "    <tr>\n",
              "      <th>135</th>\n",
              "      <td>7.7</td>\n",
              "      <td>3.0</td>\n",
              "      <td>6.1</td>\n",
              "      <td>2.3</td>\n",
              "    </tr>\n",
              "  </tbody>\n",
              "</table>\n",
              "<p>120 rows × 4 columns</p>\n",
              "</div>"
            ],
            "text/plain": [
              "     sepal_length  sepal_width  petal_length  petal_width\n",
              "55            5.7          2.8           4.5          1.3\n",
              "127           6.1          3.0           4.9          1.8\n",
              "35            5.0          3.2           1.2          0.2\n",
              "98            5.1          2.5           3.0          1.1\n",
              "29            4.7          3.2           1.6          0.2\n",
              "..            ...          ...           ...          ...\n",
              "16            5.4          3.9           1.3          0.4\n",
              "15            5.7          4.4           1.5          0.4\n",
              "17            5.1          3.5           1.4          0.3\n",
              "88            5.6          3.0           4.1          1.3\n",
              "135           7.7          3.0           6.1          2.3\n",
              "\n",
              "[120 rows x 4 columns]"
            ]
          },
          "metadata": {
            "tags": []
          },
          "execution_count": 15
        }
      ]
    },
    {
      "cell_type": "code",
      "metadata": {
        "id": "iLka-AJLjkob",
        "colab": {
          "base_uri": "https://localhost:8080/",
          "height": 979
        },
        "outputId": "deee17cd-1c25-46b0-ee37-b394012f2db6"
      },
      "source": [
        "x_test"
      ],
      "execution_count": null,
      "outputs": [
        {
          "output_type": "execute_result",
          "data": {
            "text/html": [
              "<div>\n",
              "<style scoped>\n",
              "    .dataframe tbody tr th:only-of-type {\n",
              "        vertical-align: middle;\n",
              "    }\n",
              "\n",
              "    .dataframe tbody tr th {\n",
              "        vertical-align: top;\n",
              "    }\n",
              "\n",
              "    .dataframe thead th {\n",
              "        text-align: right;\n",
              "    }\n",
              "</style>\n",
              "<table border=\"1\" class=\"dataframe\">\n",
              "  <thead>\n",
              "    <tr style=\"text-align: right;\">\n",
              "      <th></th>\n",
              "      <th>sepal_length</th>\n",
              "      <th>sepal_width</th>\n",
              "      <th>petal_length</th>\n",
              "      <th>petal_width</th>\n",
              "    </tr>\n",
              "  </thead>\n",
              "  <tbody>\n",
              "    <tr>\n",
              "      <th>113</th>\n",
              "      <td>5.7</td>\n",
              "      <td>2.5</td>\n",
              "      <td>5.0</td>\n",
              "      <td>2.0</td>\n",
              "    </tr>\n",
              "    <tr>\n",
              "      <th>51</th>\n",
              "      <td>6.4</td>\n",
              "      <td>3.2</td>\n",
              "      <td>4.5</td>\n",
              "      <td>1.5</td>\n",
              "    </tr>\n",
              "    <tr>\n",
              "      <th>126</th>\n",
              "      <td>6.2</td>\n",
              "      <td>2.8</td>\n",
              "      <td>4.8</td>\n",
              "      <td>1.8</td>\n",
              "    </tr>\n",
              "    <tr>\n",
              "      <th>76</th>\n",
              "      <td>6.8</td>\n",
              "      <td>2.8</td>\n",
              "      <td>4.8</td>\n",
              "      <td>1.4</td>\n",
              "    </tr>\n",
              "    <tr>\n",
              "      <th>112</th>\n",
              "      <td>6.8</td>\n",
              "      <td>3.0</td>\n",
              "      <td>5.5</td>\n",
              "      <td>2.1</td>\n",
              "    </tr>\n",
              "    <tr>\n",
              "      <th>79</th>\n",
              "      <td>5.7</td>\n",
              "      <td>2.6</td>\n",
              "      <td>3.5</td>\n",
              "      <td>1.0</td>\n",
              "    </tr>\n",
              "    <tr>\n",
              "      <th>147</th>\n",
              "      <td>6.5</td>\n",
              "      <td>3.0</td>\n",
              "      <td>5.2</td>\n",
              "      <td>2.0</td>\n",
              "    </tr>\n",
              "    <tr>\n",
              "      <th>132</th>\n",
              "      <td>6.4</td>\n",
              "      <td>2.8</td>\n",
              "      <td>5.6</td>\n",
              "      <td>2.2</td>\n",
              "    </tr>\n",
              "    <tr>\n",
              "      <th>12</th>\n",
              "      <td>4.8</td>\n",
              "      <td>3.0</td>\n",
              "      <td>1.4</td>\n",
              "      <td>0.1</td>\n",
              "    </tr>\n",
              "    <tr>\n",
              "      <th>13</th>\n",
              "      <td>4.3</td>\n",
              "      <td>3.0</td>\n",
              "      <td>1.1</td>\n",
              "      <td>0.1</td>\n",
              "    </tr>\n",
              "    <tr>\n",
              "      <th>37</th>\n",
              "      <td>4.9</td>\n",
              "      <td>3.1</td>\n",
              "      <td>1.5</td>\n",
              "      <td>0.1</td>\n",
              "    </tr>\n",
              "    <tr>\n",
              "      <th>94</th>\n",
              "      <td>5.6</td>\n",
              "      <td>2.7</td>\n",
              "      <td>4.2</td>\n",
              "      <td>1.3</td>\n",
              "    </tr>\n",
              "    <tr>\n",
              "      <th>111</th>\n",
              "      <td>6.4</td>\n",
              "      <td>2.7</td>\n",
              "      <td>5.3</td>\n",
              "      <td>1.9</td>\n",
              "    </tr>\n",
              "    <tr>\n",
              "      <th>83</th>\n",
              "      <td>6.0</td>\n",
              "      <td>2.7</td>\n",
              "      <td>5.1</td>\n",
              "      <td>1.6</td>\n",
              "    </tr>\n",
              "    <tr>\n",
              "      <th>84</th>\n",
              "      <td>5.4</td>\n",
              "      <td>3.0</td>\n",
              "      <td>4.5</td>\n",
              "      <td>1.5</td>\n",
              "    </tr>\n",
              "    <tr>\n",
              "      <th>117</th>\n",
              "      <td>7.7</td>\n",
              "      <td>3.8</td>\n",
              "      <td>6.7</td>\n",
              "      <td>2.2</td>\n",
              "    </tr>\n",
              "    <tr>\n",
              "      <th>97</th>\n",
              "      <td>6.2</td>\n",
              "      <td>2.9</td>\n",
              "      <td>4.3</td>\n",
              "      <td>1.3</td>\n",
              "    </tr>\n",
              "    <tr>\n",
              "      <th>109</th>\n",
              "      <td>7.2</td>\n",
              "      <td>3.6</td>\n",
              "      <td>6.1</td>\n",
              "      <td>2.5</td>\n",
              "    </tr>\n",
              "    <tr>\n",
              "      <th>11</th>\n",
              "      <td>4.8</td>\n",
              "      <td>3.4</td>\n",
              "      <td>1.6</td>\n",
              "      <td>0.2</td>\n",
              "    </tr>\n",
              "    <tr>\n",
              "      <th>121</th>\n",
              "      <td>5.6</td>\n",
              "      <td>2.8</td>\n",
              "      <td>4.9</td>\n",
              "      <td>2.0</td>\n",
              "    </tr>\n",
              "    <tr>\n",
              "      <th>139</th>\n",
              "      <td>6.9</td>\n",
              "      <td>3.1</td>\n",
              "      <td>5.4</td>\n",
              "      <td>2.1</td>\n",
              "    </tr>\n",
              "    <tr>\n",
              "      <th>104</th>\n",
              "      <td>6.5</td>\n",
              "      <td>3.0</td>\n",
              "      <td>5.8</td>\n",
              "      <td>2.2</td>\n",
              "    </tr>\n",
              "    <tr>\n",
              "      <th>141</th>\n",
              "      <td>6.9</td>\n",
              "      <td>3.1</td>\n",
              "      <td>5.1</td>\n",
              "      <td>2.3</td>\n",
              "    </tr>\n",
              "    <tr>\n",
              "      <th>107</th>\n",
              "      <td>7.3</td>\n",
              "      <td>2.9</td>\n",
              "      <td>6.3</td>\n",
              "      <td>1.8</td>\n",
              "    </tr>\n",
              "    <tr>\n",
              "      <th>116</th>\n",
              "      <td>6.5</td>\n",
              "      <td>3.0</td>\n",
              "      <td>5.5</td>\n",
              "      <td>1.8</td>\n",
              "    </tr>\n",
              "    <tr>\n",
              "      <th>122</th>\n",
              "      <td>7.7</td>\n",
              "      <td>2.8</td>\n",
              "      <td>6.7</td>\n",
              "      <td>2.0</td>\n",
              "    </tr>\n",
              "    <tr>\n",
              "      <th>40</th>\n",
              "      <td>5.0</td>\n",
              "      <td>3.5</td>\n",
              "      <td>1.3</td>\n",
              "      <td>0.3</td>\n",
              "    </tr>\n",
              "    <tr>\n",
              "      <th>131</th>\n",
              "      <td>7.9</td>\n",
              "      <td>3.8</td>\n",
              "      <td>6.4</td>\n",
              "      <td>2.0</td>\n",
              "    </tr>\n",
              "    <tr>\n",
              "      <th>23</th>\n",
              "      <td>5.1</td>\n",
              "      <td>3.3</td>\n",
              "      <td>1.7</td>\n",
              "      <td>0.5</td>\n",
              "    </tr>\n",
              "    <tr>\n",
              "      <th>77</th>\n",
              "      <td>6.7</td>\n",
              "      <td>3.0</td>\n",
              "      <td>5.0</td>\n",
              "      <td>1.7</td>\n",
              "    </tr>\n",
              "  </tbody>\n",
              "</table>\n",
              "</div>"
            ],
            "text/plain": [
              "     sepal_length  sepal_width  petal_length  petal_width\n",
              "113           5.7          2.5           5.0          2.0\n",
              "51            6.4          3.2           4.5          1.5\n",
              "126           6.2          2.8           4.8          1.8\n",
              "76            6.8          2.8           4.8          1.4\n",
              "112           6.8          3.0           5.5          2.1\n",
              "79            5.7          2.6           3.5          1.0\n",
              "147           6.5          3.0           5.2          2.0\n",
              "132           6.4          2.8           5.6          2.2\n",
              "12            4.8          3.0           1.4          0.1\n",
              "13            4.3          3.0           1.1          0.1\n",
              "37            4.9          3.1           1.5          0.1\n",
              "94            5.6          2.7           4.2          1.3\n",
              "111           6.4          2.7           5.3          1.9\n",
              "83            6.0          2.7           5.1          1.6\n",
              "84            5.4          3.0           4.5          1.5\n",
              "117           7.7          3.8           6.7          2.2\n",
              "97            6.2          2.9           4.3          1.3\n",
              "109           7.2          3.6           6.1          2.5\n",
              "11            4.8          3.4           1.6          0.2\n",
              "121           5.6          2.8           4.9          2.0\n",
              "139           6.9          3.1           5.4          2.1\n",
              "104           6.5          3.0           5.8          2.2\n",
              "141           6.9          3.1           5.1          2.3\n",
              "107           7.3          2.9           6.3          1.8\n",
              "116           6.5          3.0           5.5          1.8\n",
              "122           7.7          2.8           6.7          2.0\n",
              "40            5.0          3.5           1.3          0.3\n",
              "131           7.9          3.8           6.4          2.0\n",
              "23            5.1          3.3           1.7          0.5\n",
              "77            6.7          3.0           5.0          1.7"
            ]
          },
          "metadata": {
            "tags": []
          },
          "execution_count": 16
        }
      ]
    },
    {
      "cell_type": "code",
      "metadata": {
        "id": "pN29JX76jvNL",
        "colab": {
          "base_uri": "https://localhost:8080/"
        },
        "outputId": "16743b76-820e-40e7-cb91-fe104419553f"
      },
      "source": [
        "y_test"
      ],
      "execution_count": null,
      "outputs": [
        {
          "output_type": "execute_result",
          "data": {
            "text/plain": [
              "113     virginica\n",
              "51     versicolor\n",
              "126     virginica\n",
              "76     versicolor\n",
              "112     virginica\n",
              "79     versicolor\n",
              "147     virginica\n",
              "132     virginica\n",
              "12         setosa\n",
              "13         setosa\n",
              "37         setosa\n",
              "94     versicolor\n",
              "111     virginica\n",
              "83     versicolor\n",
              "84     versicolor\n",
              "117     virginica\n",
              "97     versicolor\n",
              "109     virginica\n",
              "11         setosa\n",
              "121     virginica\n",
              "139     virginica\n",
              "104     virginica\n",
              "141     virginica\n",
              "107     virginica\n",
              "116     virginica\n",
              "122     virginica\n",
              "40         setosa\n",
              "131     virginica\n",
              "23         setosa\n",
              "77     versicolor\n",
              "Name: species, dtype: object"
            ]
          },
          "metadata": {
            "tags": []
          },
          "execution_count": 17
        }
      ]
    },
    {
      "cell_type": "code",
      "metadata": {
        "id": "VcxvejPpj2Fa",
        "colab": {
          "base_uri": "https://localhost:8080/"
        },
        "outputId": "7324f632-ca11-42d0-9067-12f3734b1596"
      },
      "source": [
        "y_train"
      ],
      "execution_count": null,
      "outputs": [
        {
          "output_type": "execute_result",
          "data": {
            "text/plain": [
              "55     versicolor\n",
              "127     virginica\n",
              "35         setosa\n",
              "98     versicolor\n",
              "29         setosa\n",
              "          ...    \n",
              "16         setosa\n",
              "15         setosa\n",
              "17         setosa\n",
              "88     versicolor\n",
              "135     virginica\n",
              "Name: species, Length: 120, dtype: object"
            ]
          },
          "metadata": {
            "tags": []
          },
          "execution_count": 18
        }
      ]
    },
    {
      "cell_type": "code",
      "metadata": {
        "id": "zkfImSKXj4n6"
      },
      "source": [
        "l = LabelEncoder()"
      ],
      "execution_count": null,
      "outputs": []
    },
    {
      "cell_type": "code",
      "metadata": {
        "id": "lPmWUxZ0kSLa"
      },
      "source": [
        "l = LabelEncoder()\n",
        "y_train = l.fit_transform(y_train)"
      ],
      "execution_count": null,
      "outputs": []
    },
    {
      "cell_type": "code",
      "metadata": {
        "id": "sex0FhG0kYOi",
        "colab": {
          "base_uri": "https://localhost:8080/"
        },
        "outputId": "1a574d39-4ec1-4f23-f6d5-cbfb212338ef"
      },
      "source": [
        "clf = LinearRegression()\n",
        "clf.fit(x_train,y_train)\n"
      ],
      "execution_count": null,
      "outputs": [
        {
          "output_type": "execute_result",
          "data": {
            "text/plain": [
              "LinearRegression(copy_X=True, fit_intercept=True, n_jobs=None, normalize=False)"
            ]
          },
          "metadata": {
            "tags": []
          },
          "execution_count": 21
        }
      ]
    },
    {
      "cell_type": "code",
      "metadata": {
        "colab": {
          "base_uri": "https://localhost:8080/"
        },
        "id": "qItQYCxFk6lB",
        "outputId": "d4b76058-d9f6-43fa-9254-193e98abee0d"
      },
      "source": [
        "y_train"
      ],
      "execution_count": null,
      "outputs": [
        {
          "output_type": "execute_result",
          "data": {
            "text/plain": [
              "array([1, 2, 0, 1, 0, 0, 1, 1, 0, 2, 1, 1, 2, 0, 2, 2, 1, 0, 1, 2, 0, 1,\n",
              "       1, 2, 2, 1, 2, 2, 0, 1, 2, 1, 1, 0, 0, 0, 2, 1, 0, 1, 0, 2, 0, 2,\n",
              "       0, 1, 1, 0, 0, 2, 1, 1, 1, 0, 1, 1, 0, 1, 1, 2, 2, 1, 1, 1, 0, 2,\n",
              "       1, 1, 0, 0, 2, 2, 1, 0, 0, 0, 0, 1, 0, 2, 0, 1, 1, 0, 2, 2, 0, 2,\n",
              "       0, 1, 2, 0, 0, 2, 0, 0, 2, 1, 0, 1, 2, 2, 2, 0, 2, 0, 1, 0, 1, 2,\n",
              "       2, 0, 1, 0, 1, 0, 0, 0, 1, 2])"
            ]
          },
          "metadata": {
            "tags": []
          },
          "execution_count": 23
        }
      ]
    },
    {
      "cell_type": "code",
      "metadata": {
        "id": "-Ncsa2e1mMZq",
        "colab": {
          "base_uri": "https://localhost:8080/"
        },
        "outputId": "0c4aab4f-3451-48be-a8a2-31189197b151"
      },
      "source": [
        "clf.score(x_train,y_train)"
      ],
      "execution_count": null,
      "outputs": [
        {
          "output_type": "execute_result",
          "data": {
            "text/plain": [
              "0.9286662022628939"
            ]
          },
          "metadata": {
            "tags": []
          },
          "execution_count": 20
        }
      ]
    },
    {
      "cell_type": "code",
      "metadata": {
        "id": "Ip-eT2nCnyFk",
        "colab": {
          "base_uri": "https://localhost:8080/"
        },
        "outputId": "ebba2fab-fa1c-44f6-cf01-f9eef2410c8c"
      },
      "source": [
        "y_test = l.transform(y_test)\n",
        "clf.score(x_test,y_test)"
      ],
      "execution_count": null,
      "outputs": [
        {
          "output_type": "execute_result",
          "data": {
            "text/plain": [
              "0.9342684705852438"
            ]
          },
          "metadata": {
            "tags": []
          },
          "execution_count": 21
        }
      ]
    },
    {
      "cell_type": "code",
      "metadata": {
        "id": "nL5iD5R3n9D5",
        "colab": {
          "base_uri": "https://localhost:8080/"
        },
        "outputId": "207f9bbd-ea23-4dbe-efe5-0247f21d64dd"
      },
      "source": [
        "clf.predict([[5.3,3.7,1.6,0.1]])"
      ],
      "execution_count": null,
      "outputs": [
        {
          "output_type": "execute_result",
          "data": {
            "text/plain": [
              "array([-0.11343324])"
            ]
          },
          "metadata": {
            "tags": []
          },
          "execution_count": 22
        }
      ]
    },
    {
      "cell_type": "code",
      "metadata": {
        "id": "VdiqYoAYpZXR",
        "colab": {
          "base_uri": "https://localhost:8080/"
        },
        "outputId": "38ad41f6-e9a7-46e7-83e5-aa6c003d66ba"
      },
      "source": [
        "lo = LogisticRegression()\n",
        "lo.fit(x_train,y_train)"
      ],
      "execution_count": null,
      "outputs": [
        {
          "output_type": "execute_result",
          "data": {
            "text/plain": [
              "LogisticRegression(C=1.0, class_weight=None, dual=False, fit_intercept=True,\n",
              "                   intercept_scaling=1, l1_ratio=None, max_iter=100,\n",
              "                   multi_class='auto', n_jobs=None, penalty='l2',\n",
              "                   random_state=None, solver='lbfgs', tol=0.0001, verbose=0,\n",
              "                   warm_start=False)"
            ]
          },
          "metadata": {
            "tags": []
          },
          "execution_count": 23
        }
      ]
    },
    {
      "cell_type": "code",
      "metadata": {
        "id": "FmlImzZGlMsE",
        "colab": {
          "base_uri": "https://localhost:8080/"
        },
        "outputId": "016971f9-214e-4bc5-9ee3-cc682e97449a"
      },
      "source": [
        "lo.score(x_train,y_train)"
      ],
      "execution_count": null,
      "outputs": [
        {
          "output_type": "execute_result",
          "data": {
            "text/plain": [
              "0.9833333333333333"
            ]
          },
          "metadata": {
            "tags": []
          },
          "execution_count": 24
        }
      ]
    },
    {
      "cell_type": "code",
      "metadata": {
        "id": "MQkTb-8oliEL",
        "colab": {
          "base_uri": "https://localhost:8080/"
        },
        "outputId": "7d6fff86-42c0-4864-a4fb-908eaca78aa6"
      },
      "source": [
        "lo.score(x_test,y_test)"
      ],
      "execution_count": null,
      "outputs": [
        {
          "output_type": "execute_result",
          "data": {
            "text/plain": [
              "0.9333333333333333"
            ]
          },
          "metadata": {
            "tags": []
          },
          "execution_count": 25
        }
      ]
    },
    {
      "cell_type": "code",
      "metadata": {
        "id": "BWMT1BJ1lnn7",
        "colab": {
          "base_uri": "https://localhost:8080/"
        },
        "outputId": "f0f8cae5-b279-47c6-ec98-3e97966e8c88"
      },
      "source": [
        " lo.predict([[6.7,3.1,5.6,2.4]])"
      ],
      "execution_count": null,
      "outputs": [
        {
          "output_type": "execute_result",
          "data": {
            "text/plain": [
              "array([2])"
            ]
          },
          "metadata": {
            "tags": []
          },
          "execution_count": 27
        }
      ]
    },
    {
      "cell_type": "code",
      "metadata": {
        "id": "YXHfvLHcn6iB"
      },
      "source": [
        ""
      ],
      "execution_count": null,
      "outputs": []
    }
  ]
}